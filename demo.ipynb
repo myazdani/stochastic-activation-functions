{
  "nbformat": 4,
  "nbformat_minor": 0,
  "metadata": {
    "colab": {
      "name": "demo.ipynb",
      "provenance": [],
      "authorship_tag": "ABX9TyMB9HL10hXk1Fzst7LX8w6I",
      "include_colab_link": true
    },
    "kernelspec": {
      "name": "python3",
      "display_name": "Python 3"
    },
    "language_info": {
      "name": "python"
    },
    "accelerator": "GPU",
    "gpuClass": "standard"
  },
  "cells": [
    {
      "cell_type": "markdown",
      "metadata": {
        "id": "view-in-github",
        "colab_type": "text"
      },
      "source": [
        "<a href=\"https://colab.research.google.com/github/myazdani/stochastic-activation-functions/blob/main/demo.ipynb\" target=\"_parent\"><img src=\"https://colab.research.google.com/assets/colab-badge.svg\" alt=\"Open In Colab\"/></a>"
      ]
    },
    {
      "cell_type": "code",
      "execution_count": 2,
      "metadata": {
        "colab": {
          "base_uri": "https://localhost:8080/"
        },
        "id": "2iuixwAnkBAg",
        "outputId": "6e11bfdd-a880-4c25-a4bc-5c75483daa10"
      },
      "outputs": [
        {
          "output_type": "stream",
          "name": "stdout",
          "text": [
            "Cloning into 'stochastic-activation-functions'...\n",
            "remote: Enumerating objects: 25, done.\u001b[K\n",
            "remote: Counting objects: 100% (25/25), done.\u001b[K\n",
            "remote: Compressing objects: 100% (15/15), done.\u001b[K\n",
            "remote: Total 25 (delta 9), reused 18 (delta 8), pack-reused 0\u001b[K\n",
            "Unpacking objects: 100% (25/25), done.\n"
          ]
        }
      ],
      "source": [
        "!git clone https://github.com/myazdani/stochastic-activation-functions.git\n",
        "\n",
        "import sys\n",
        "  \n",
        "# adding Folder_2 to the system path\n",
        "sys.path.insert(0, './stochastic-activation-functions/')"
      ]
    },
    {
      "cell_type": "code",
      "source": [
        "import json\n",
        "import math\n",
        "import os\n",
        "import urllib.request\n",
        "import warnings\n",
        "from urllib.error import HTTPError\n",
        "\n",
        "import matplotlib.pyplot as plt\n",
        "import numpy as np\n",
        "import seaborn as sns\n",
        "import torch\n",
        "import torch.nn as nn\n",
        "import torch.nn.functional as F\n",
        "import torch.optim as optim\n",
        "import torch.utils.data as data\n",
        "import torchvision\n",
        "\n",
        "from IPython.display import set_matplotlib_formats\n",
        "from torchvision import transforms\n",
        "from torchvision.datasets import FashionMNIST\n",
        "from tqdm.notebook import tqdm"
      ],
      "metadata": {
        "id": "9Z7v2MVTkyA8"
      },
      "execution_count": 3,
      "outputs": []
    },
    {
      "cell_type": "code",
      "source": [
        "import activation_functions\n",
        "import networks \n",
        "import utils"
      ],
      "metadata": {
        "id": "bXY_YZWdki2F"
      },
      "execution_count": 4,
      "outputs": []
    },
    {
      "cell_type": "code",
      "source": [
        "# Path to the folder where the datasets are/should be downloaded (e.g. MNIST)\n",
        "DATASET_PATH = os.environ.get(\"PATH_DATASETS\", \"data/\")\n",
        "\n",
        "# Path to the folder where the pretrained models are saved\n",
        "CHECKPOINT_PATH = os.environ.get(\"PATH_CHECKPOINT\", \"saved_models/Activation_Functions/\")\n"
      ],
      "metadata": {
        "id": "g8Dg4xKxkmlg"
      },
      "execution_count": 5,
      "outputs": []
    },
    {
      "cell_type": "code",
      "source": [
        "utils.set_seed(42)"
      ],
      "metadata": {
        "id": "DoxpLqIhlBdu"
      },
      "execution_count": 6,
      "outputs": []
    },
    {
      "cell_type": "code",
      "source": [
        "# Additionally, some operations on a GPU are implemented stochastic for efficiency\n",
        "# We want to ensure that all operations are deterministic on GPU (if used) for reproducibility\n",
        "torch.backends.cudnn.determinstic = True\n",
        "torch.backends.cudnn.benchmark = False\n",
        "\n",
        "# Fetching the device that will be used throughout this notebook\n",
        "device = torch.device(\"cpu\") if not torch.cuda.is_available() else torch.device(\"cuda:0\")\n",
        "print(\"Using device\", device)\n",
        "\n",
        "# Github URL where saved models are stored for this tutorial\n",
        "base_url = \"https://raw.githubusercontent.com/phlippe/saved_models/main/tutorial3/\"\n",
        "# Files to download\n",
        "pretrained_files = [\n",
        "    \"FashionMNIST_elu.config\",\n",
        "    \"FashionMNIST_elu.tar\",\n",
        "    \"FashionMNIST_leakyrelu.config\",\n",
        "    \"FashionMNIST_leakyrelu.tar\",\n",
        "    \"FashionMNIST_relu.config\",\n",
        "    \"FashionMNIST_relu.tar\",\n",
        "    \"FashionMNIST_sigmoid.config\",\n",
        "    \"FashionMNIST_sigmoid.tar\",\n",
        "    \"FashionMNIST_swish.config\",\n",
        "    \"FashionMNIST_swish.tar\",\n",
        "    \"FashionMNIST_tanh.config\",\n",
        "    \"FashionMNIST_tanh.tar\",\n",
        "]\n",
        "# Create checkpoint path if it doesn't exist yet\n",
        "os.makedirs(CHECKPOINT_PATH, exist_ok=True)\n",
        "\n",
        "\n",
        "# For each file, check whether it already exists. If not, try downloading it.\n",
        "for file_name in pretrained_files:\n",
        "    file_path = os.path.join(CHECKPOINT_PATH, file_name)\n",
        "    if not os.path.isfile(file_path):\n",
        "        file_url = base_url + file_name\n",
        "        print(f\"Downloading {file_url}...\")\n",
        "        try:\n",
        "            urllib.request.urlretrieve(file_url, file_path)\n",
        "        except HTTPError as e:\n",
        "            print(\n",
        "                \"Something went wrong. Please try to download the file from the GDrive folder, or contact the author with the full output including the following error:\\n\",\n",
        "                e,\n",
        "            )"
      ],
      "metadata": {
        "colab": {
          "base_uri": "https://localhost:8080/"
        },
        "id": "_tD8WYrZlF6h",
        "outputId": "45b6b9af-5fa1-4ba8-f00d-d1131848c72d"
      },
      "execution_count": 7,
      "outputs": [
        {
          "output_type": "stream",
          "name": "stdout",
          "text": [
            "Using device cuda:0\n"
          ]
        }
      ]
    },
    {
      "cell_type": "code",
      "source": [
        "# Transformations applied on each image => first make them a tensor, then normalize them in the range -1 to 1\n",
        "transform = transforms.Compose([transforms.ToTensor(), transforms.Normalize((0.5,), (0.5,))])\n",
        "\n",
        "# Loading the training dataset. We need to split it into a training and validation part\n",
        "train_dataset = FashionMNIST(root=DATASET_PATH, train=True, transform=transform, download=True)\n",
        "train_set, val_set = torch.utils.data.random_split(train_dataset, [50000, 10000])\n",
        "\n",
        "# Loading the test set\n",
        "test_set = FashionMNIST(root=DATASET_PATH, train=False, transform=transform, download=True)    \n",
        "\n",
        "\n",
        "train_loader = data.DataLoader(train_set, batch_size=1024, shuffle=True, drop_last=False)\n",
        "val_loader = data.DataLoader(val_set, batch_size=1024, shuffle=False, drop_last=False)\n",
        "test_loader = data.DataLoader(test_set, batch_size=1024, shuffle=False, drop_last=False)\n",
        "            \n",
        "act_fn_by_name = {\"sigmoid\": activation_functions.Sigmoid, \n",
        "                  \"tanh\": activation_functions.Tanh, \n",
        "                  \"relu\": activation_functions.ReLU, \n",
        "                  \"leakyrelu\": activation_functions.LeakyReLU, \n",
        "                  \"elu\": activation_functions.ELU, \n",
        "                  \"swish\": activation_functions.Swish, \n",
        "                  \"tanhelu\": activation_functions.TanhELU, \n",
        "                  \"tanhrelu\": activation_functions.TanhReLU\n",
        "                  }            \n"
      ],
      "metadata": {
        "id": "tU1quTV6lICe"
      },
      "execution_count": 8,
      "outputs": []
    },
    {
      "cell_type": "code",
      "source": [
        "device"
      ],
      "metadata": {
        "colab": {
          "base_uri": "https://localhost:8080/"
        },
        "id": "x_O-q1dOlYHQ",
        "outputId": "bf54070c-a9c2-446f-d716-d91a2042e999"
      },
      "execution_count": 9,
      "outputs": [
        {
          "output_type": "execute_result",
          "data": {
            "text/plain": [
              "device(type='cuda', index=0)"
            ]
          },
          "metadata": {},
          "execution_count": 9
        }
      ]
    },
    {
      "cell_type": "code",
      "source": [
        "for act_fn_name in act_fn_by_name:\n",
        "    print(f\"Training BaseNetwork with {act_fn_name} activation...\")\n",
        "    utils.set_seed(42)\n",
        "    act_fn = act_fn_by_name[act_fn_name]()\n",
        "    net_actfn = networks.BaseNetwork(act_fn=act_fn).to(device)\n",
        "    utils.train_model(net_actfn, f\"FashionMNIST_{act_fn_name}\",train_set, max_epochs=2,\n",
        "                      overwrite=False, device = device, \n",
        "                      test_loader = test_loader, val_loader = val_loader)"
      ],
      "metadata": {
        "colab": {
          "base_uri": "https://localhost:8080/"
        },
        "id": "L3T7lN9_lKGT",
        "outputId": "b9df2081-c099-4b2c-84fb-40236baf1ccd"
      },
      "execution_count": 10,
      "outputs": [
        {
          "output_type": "stream",
          "name": "stdout",
          "text": [
            "Training BaseNetwork with sigmoid activation...\n",
            "Model file already exists. Skipping training...\n",
            "============= Test accuracy: 10.00% ==============\n",
            "\n",
            "Training BaseNetwork with tanh activation...\n",
            "Model file already exists. Skipping training...\n",
            "============= Test accuracy: 87.59% ==============\n",
            "\n",
            "Training BaseNetwork with relu activation...\n",
            "Model file already exists. Skipping training...\n",
            "============= Test accuracy: 88.62% ==============\n",
            "\n",
            "Training BaseNetwork with leakyrelu activation...\n",
            "Model file already exists. Skipping training...\n",
            "============= Test accuracy: 88.92% ==============\n",
            "\n",
            "Training BaseNetwork with elu activation...\n",
            "Model file already exists. Skipping training...\n",
            "============= Test accuracy: 87.27% ==============\n",
            "\n",
            "Training BaseNetwork with swish activation...\n",
            "Model file already exists. Skipping training...\n",
            "============= Test accuracy: 88.73% ==============\n",
            "\n",
            "Training BaseNetwork with tanhelu activation...\n"
          ]
        },
        {
          "output_type": "stream",
          "name": "stderr",
          "text": [
            ""
          ]
        },
        {
          "output_type": "stream",
          "name": "stdout",
          "text": [
            "epoch\n",
            "\t   (New best performance, saving model...)\n"
          ]
        },
        {
          "output_type": "stream",
          "name": "stderr",
          "text": [
            ""
          ]
        },
        {
          "output_type": "stream",
          "name": "stdout",
          "text": [
            "epoch\n",
            "\t   (New best performance, saving model...)\n",
            "============= Test accuracy: 81.38% ==============\n",
            "\n",
            "Training BaseNetwork with tanhrelu activation...\n"
          ]
        },
        {
          "output_type": "stream",
          "name": "stderr",
          "text": [
            ""
          ]
        },
        {
          "output_type": "stream",
          "name": "stdout",
          "text": [
            "epoch\n",
            "\t   (New best performance, saving model...)\n"
          ]
        },
        {
          "output_type": "stream",
          "name": "stderr",
          "text": [
            ""
          ]
        },
        {
          "output_type": "stream",
          "name": "stdout",
          "text": [
            "epoch\n",
            "\t   (New best performance, saving model...)\n",
            "============= Test accuracy: 81.18% ==============\n",
            "\n"
          ]
        }
      ]
    },
    {
      "cell_type": "code",
      "source": [
        ""
      ],
      "metadata": {
        "id": "ugqknqilnq4a"
      },
      "execution_count": null,
      "outputs": []
    }
  ]
}